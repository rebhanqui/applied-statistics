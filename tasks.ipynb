{
 "cells": [
  {
   "cell_type": "markdown",
   "metadata": {},
   "source": [
    "# Applied Statistics Tasks"
   ]
  },
  {
   "cell_type": "code",
   "execution_count": 32,
   "metadata": {},
   "outputs": [],
   "source": [
    "#math module allows calculating combinations here\n",
    "import math\n",
    "\n",
    "import itertools\n",
    "\n",
    "import random\n",
    "\n",
    "import numpy as np\n",
    "\n",
    "import matplotlib.pyplot as plt\n"
   ]
  },
  {
   "cell_type": "markdown",
   "metadata": {},
   "source": [
    "## Task 1: Permutations and Combinations\n",
    "\n",
    "Suppose we alter the Lady Tasting Tea experiment to involve twelve cups of tea. Six have the milk in first and the other six having tea in first. A person claims they have the special power of being able to tell whether the tea or the milk went into a cup first upon tasting it. You agree to accept their claim if they can tell which of the six cups in your experiment had the milk in first.\n",
    "\n",
    "Calculate, using Python, the probability that they select the correct six cups. Here you should assume that they have no special powers in figuring it out, that they are just guessing. Remember to show and justify your workings in code and MarkDown cells.\n",
    "\n",
    "Suppose, now, you are willing to accept one error. Once they select the six cups they think had the milk in first, you will give them the benefit of the doubt should they have selected at least five of the correct cups. Calculate the probability, assuming they have no special powers, that the person makes at most one error.\n",
    "\n",
    "Would you accept two errors? Explain."
   ]
  },
  {
   "cell_type": "code",
   "execution_count": 33,
   "metadata": {},
   "outputs": [],
   "source": [
    "# Total number of cups\n",
    "no_cups = 12\n",
    "# Cups with milk first\n",
    "no_cups_milk_first = 6\n",
    "\n",
    "# Total combinations to chose 6 cups from 12\n",
    "milk_ways = math.comb(no_cups, no_cups_milk_first)\n",
    "\n",
    "# Probability of selecting all 6 correctly\n",
    "all_correct = 1 / milk_ways\n",
    "\n",
    "# Probability of at least five being correct\n",
    "five_correct = math.comb(milk_ways, 5) * math.comb(no_cups_milk_first, 1)\n",
    "probability_five = (five_correct + 1) / milk_ways\n",
    "\n",
    "# Probability of four correct\n",
    "four_correct = math.comb(milk_ways, 4) * math.comb(milk_ways, 2)\n",
    "probability_four = (four_correct + five_correct + 1) / all_correct"
   ]
  },
  {
   "cell_type": "code",
   "execution_count": 37,
   "metadata": {},
   "outputs": [
    {
     "name": "stdout",
     "output_type": "stream",
     "text": [
      "Total combinations: 924\n",
      "Probability of all 6 chosen being correctly guessed: 0.0010822510822510823\n",
      "Probability of at least 5 correctly guessed, accepting 1 error: 36053720196.00108\n",
      "Probability of four being chosen correctly, accepting 2 errors: 1.192041973509159e+19\n"
     ]
    }
   ],
   "source": [
    "#results print out\n",
    "#total combos\n",
    "print(f\"Total combinations: {milk_ways}\")\n",
    "\n",
    "#probability of selecting 6\n",
    "print(f\"Probability of all 6 chosen being correctly guessed: {all_correct}\")\n",
    "\n",
    "#probability of at least 5 correct\n",
    "print(f\"Probability of at least 5 correctly guessed, accepting 1 error: {probability_five}\")\n",
    "\n",
    "#probability of four correct assuming 2 are incorrect\n",
    "#output expressed in python notation as number is very large\n",
    "print(f\"Probability of four being chosen correctly, accepting 2 errors: {probability_four}\")"
   ]
  },
  {
   "cell_type": "markdown",
   "metadata": {},
   "source": [
    "Allowing two errors would greatly increase the chances of a correct result, but it might reduce the credibility of the outcome. Statistically, this makes sense because perfect accuracy is often unrealistic, especially in challenging tests. However, allowing errors can make it harder to distinguish genuine skill from random luck in the selections."
   ]
  },
  {
   "cell_type": "markdown",
   "metadata": {},
   "source": [
    "## Task 2: numpy's Normal Distribution\n",
    "\n",
    "In this task you will assess whether `numpy.random.normal()` properly generates normal values. To begin, generate a sample of one hundred thousand values using the function with mean 10.0 and standard deviation 3.0.\n",
    "\n",
    "Use the `scipy.stats.shapiro()` function to test whether your sample came from a normal distribution. Explain the results and output.\n",
    "\n",
    "Plot a histogram of your values and plot the corresponding normal distribution probability density function on top of it."
   ]
  },
  {
   "cell_type": "markdown",
   "metadata": {},
   "source": [
    "## Task 3: t-Test Calculation\n",
    "\n",
    "Consider the following dataset containing resting heart rates for patients before and after embarking on a two-week exercise program.\n",
    "\n",
    "||| || | | | | | | |\n",
    "|-------|----|---|---|---|---|---|---|---|---|---|\n",
    "|Patient|ID|0|1|\t2|\t3|\t4|\t5|\t6|\t7|\t8|\t9|\n",
    "|Before\t|63\t|68\t|70\t|64|\t74|\t67|\t70|\t57|\t66|\t65|\n",
    "|After\t|64|\t64|\t68\t|64\t|73\t|70\t|72\t|54\t|61\t|63|\n",
    "\n",
    "Calculate the t-statistic based on this data set, using Python. Compare it to the value given by `scipy.stats`. Explain your work and list any sources used."
   ]
  },
  {
   "cell_type": "markdown",
   "metadata": {},
   "source": [
    "## Task 4: ANOVA\n",
    "\n",
    "In this test we will estimate the probability of committing a type II error in specific circumstances. To begin, create a variable called `no_type_ii` and set it to `0`.\n",
    "\n",
    "Now use a loop to perform the following test 10,000 times.\n",
    "\n",
    "Use `numpy.random.normal` to generate three samples with 100 values each. Give each a standard deviation of `0.1`. Give the first sample a mean of `4.9`, the second a mean of `5.0`, and the third a mean of `5.1`.\n",
    "\n",
    "Perform one-way anova on the three samples and add `1` to `no_type_ii` whenever a type II error occurs.\n",
    "\n",
    "Summarize and explain your results."
   ]
  }
 ],
 "metadata": {
  "kernelspec": {
   "display_name": "Python 3",
   "language": "python",
   "name": "python3"
  },
  "language_info": {
   "codemirror_mode": {
    "name": "ipython",
    "version": 3
   },
   "file_extension": ".py",
   "mimetype": "text/x-python",
   "name": "python",
   "nbconvert_exporter": "python",
   "pygments_lexer": "ipython3",
   "version": "3.11.9"
  }
 },
 "nbformat": 4,
 "nbformat_minor": 2
}
